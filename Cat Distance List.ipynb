{
 "cells": [
  {
   "cell_type": "code",
   "execution_count": 8,
   "metadata": {},
   "outputs": [],
   "source": [
    "#This script computes the angular distance between stars in star_list.dat\n",
    "#and sorts them in ascending order to use with the geometric voting algorithm\n",
    "from astropy.io import ascii\n",
    "from astropy import units as u\n",
    "from astropy.coordinates import SkyCoord\n",
    "from astropy.table import Table\n",
    "from astropy.coordinates import FK5\n",
    "import math\n",
    "import numpy as np\n",
    "\n",
    "index = 0\n",
    "diagonal_fov = 0.42\n",
    "\n",
    "eci_data = ascii.read(\"star_list.dat\")\n",
    "\n",
    "#create a table with the star pair ids and the angular distance in radians\n",
    "N = 483497\n",
    "dtype = [('star_1_id', 'i4'), ('star_2_id', 'i4'), ('ang_dist', 'f8')]\n",
    "t_cdist = Table(data=np.zeros(N, dtype=dtype))\n",
    "\n",
    "#calculate angular distance and check if stars lie within diagonal FOV of camera\n",
    "for i in range(len(eci_data)-1):\n",
    "    for j in range(i+1,len(eci_data)):\n",
    "        cat_dist = math.acos(((eci_data['x'][i])*(eci_data['x'][j]))+((eci_data['y'][i])*(eci_data['y'][j]))+((eci_data['z'][i])*(eci_data['z'][j])))\n",
    "        if (cat_dist < diagonal_fov) & (cat_dist > 0):\n",
    "            t_cdist[index] = (eci_data['star_id'][i], eci_data['star_id'][j], cat_dist)\n",
    "            index = index+1\n",
    "\n",
    "#sort by distance in ascending order\n",
    "cat_by_dist = t_cdist.group_by('ang_dist')\n",
    "\n",
    "ascii.write(cat_by_dist, 'cat_dist.dat')"
   ]
  }
 ],
 "metadata": {
  "kernelspec": {
   "display_name": "Python 3",
   "language": "python",
   "name": "python3"
  },
  "language_info": {
   "codemirror_mode": {
    "name": "ipython",
    "version": 3
   },
   "file_extension": ".py",
   "mimetype": "text/x-python",
   "name": "python",
   "nbconvert_exporter": "python",
   "pygments_lexer": "ipython3",
   "version": "3.6.5"
  }
 },
 "nbformat": 4,
 "nbformat_minor": 2
}
