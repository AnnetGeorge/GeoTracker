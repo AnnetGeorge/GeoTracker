{
 "cells": [
  {
   "cell_type": "code",
   "execution_count": null,
   "metadata": {},
   "outputs": [],
   "source": [
    "#This script generates a reference catalogue from the \n",
    "#Hipparcos Cataologue based on the magnitude threshold given in Johnson V brightness.\n",
    "from astropy.io import ascii\n",
    "from astropy import units as u\n",
    "from astropy.coordinates import SkyCoord\n",
    "from astropy.table import Table\n",
    "\n",
    "low_mag = 5.91\n",
    "high_mag = 1\n",
    "\n",
    "data = ascii.read(\"hip_main.dat\")\n",
    "\n",
    "#sort data according to the magnitude of stars\n",
    "mask = (data['col6'] > high_mag) & (data['col6'] < low_mag) \n",
    "subset = data[mask]\n",
    "\n",
    "#creating reference catalogue from hipparcos catalogue\n",
    "ref_catalogue = subset\n",
    "ascii.write(ref_catalogue, 'ref_catalogue.dat')"
   ]
  }
 ],
 "metadata": {
  "kernelspec": {
   "display_name": "Python 3",
   "language": "python",
   "name": "python3"
  },
  "language_info": {
   "codemirror_mode": {
    "name": "ipython",
    "version": 3
   },
   "file_extension": ".py",
   "mimetype": "text/x-python",
   "name": "python",
   "nbconvert_exporter": "python",
   "pygments_lexer": "ipython3",
   "version": "3.6.5"
  }
 },
 "nbformat": 4,
 "nbformat_minor": 2
}
