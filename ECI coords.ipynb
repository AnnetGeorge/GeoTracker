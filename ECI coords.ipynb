{
 "cells": [
  {
   "cell_type": "code",
   "execution_count": 2,
   "metadata": {},
   "outputs": [],
   "source": [
    "#This script converts RA and Dec in the reference catalogue to ECI unit vectore\n",
    "from astropy.io import ascii\n",
    "from astropy import units as u\n",
    "from astropy.coordinates import SkyCoord\n",
    "from astropy.table import Table\n",
    "from astropy.coordinates import FK5\n",
    "import math\n",
    "import numpy as np\n",
    "\n",
    "data = ascii.read(\"ref_catalogue.dat\")\n",
    "\n",
    "#create table to star vectors\n",
    "N = 4494\n",
    "dtype = [('star_id', 'i4'), ('x', 'f8'), ('y', 'f8'), ('z', 'f8')]\n",
    "t = Table(data=np.zeros(N, dtype=dtype))\n",
    "\n",
    "for i in range (len(data)):\n",
    "    #convert to j2000 epoch\n",
    "    c = SkyCoord(data['col4'][i],data['col5'][i], unit=(u.hourangle, u.deg))\n",
    "    c = c.transform_to(FK5(equinox='J2000.000')) \n",
    "    t[i] = (data['col2'][i], (math.cos(c.ra.rad))*(math.cos(c.dec.rad)) , (math.sin(c.ra.rad))*(math.cos(c.dec.rad)),math.sin(c.dec.rad))\n",
    "\n",
    "ascii.write(t, 'star_list.dat')"
   ]
  },
  {
   "cell_type": "code",
   "execution_count": null,
   "metadata": {},
   "outputs": [],
   "source": []
  }
 ],
 "metadata": {
  "kernelspec": {
   "display_name": "Python 3",
   "language": "python",
   "name": "python3"
  },
  "language_info": {
   "codemirror_mode": {
    "name": "ipython",
    "version": 3
   },
   "file_extension": ".py",
   "mimetype": "text/x-python",
   "name": "python",
   "nbconvert_exporter": "python",
   "pygments_lexer": "ipython3",
   "version": "3.6.5"
  }
 },
 "nbformat": 4,
 "nbformat_minor": 2
}
